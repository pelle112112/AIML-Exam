{
 "cells": [
  {
   "cell_type": "markdown",
   "id": "bdc7c425",
   "metadata": {},
   "source": [
    "The following data is build on this dataset from Kaggle: https://www.kaggle.com/datasets/joanirudh/resumecorpus-cleaned/data\n",
    "\n",
    "It has to be downloaded, unpacked and inserted into the /Data folder. It is too large to upload to github."
   ]
  },
  {
   "cell_type": "code",
   "execution_count": 56,
   "id": "a65428c7",
   "metadata": {},
   "outputs": [],
   "source": [
    "import pandas as pd\n",
    "import numpy as np"
   ]
  },
  {
   "cell_type": "code",
   "execution_count": 57,
   "id": "cc898737",
   "metadata": {},
   "outputs": [],
   "source": [
    "\n",
    "def loadData(file_path):\n",
    "    \"\"\"\n",
    "    Load data from a CSV file.\n",
    "    \"\"\"\n",
    "    try:\n",
    "        data = pd.read_csv(file_path)\n",
    "        return data\n",
    "    except FileNotFoundError:\n",
    "        print(f\"File {file_path} not found.\")\n",
    "        return None\n",
    "    \n",
    "    \n",
    "df = loadData(\"Data/finale.csv\")"
   ]
  },
  {
   "cell_type": "code",
   "execution_count": null,
   "id": "d7cdc504",
   "metadata": {},
   "outputs": [
    {
     "name": "stdout",
     "output_type": "stream",
     "text": [
      "   Unnamed: 0                                               Text  \\\n",
      "0           0  Database AdministratorDatabase AdministratorDa...   \n",
      "1           1  Database AdministratorSQL Microsoft PowerPoint...   \n",
      "2           2  Oracle Database AdministratorOracle Database A...   \n",
      "3           3  Amazon Redshift Administrator ETL Developer Bu...   \n",
      "4           4  Scrum MasterOracle Database Administrator Scru...   \n",
      "\n",
      "                         Label  Software_Developer  Database_Administrator  \\\n",
      "0  [b'Database_Administrator']                   0                       1   \n",
      "1  [b'Database_Administrator']                   0                       1   \n",
      "2  [b'Database_Administrator']                   0                       1   \n",
      "3  [b'Database_Administrator']                   0                       1   \n",
      "4  [b'Database_Administrator']                   0                       1   \n",
      "\n",
      "   Systems_Administrator  Project_manager  Web_Developer  \\\n",
      "0                      0                0              0   \n",
      "1                      0                0              0   \n",
      "2                      0                0              0   \n",
      "3                      0                0              0   \n",
      "4                      0                0              0   \n",
      "\n",
      "   Network_Administrator  Security_Analyst  Python_Developer  Java_Developer  \\\n",
      "0                      0                 0                 0               0   \n",
      "1                      0                 0                 0               0   \n",
      "2                      0                 0                 0               0   \n",
      "3                      0                 0                 0               0   \n",
      "4                      0                 0                 0               0   \n",
      "\n",
      "   Front_End_Developer  TextLen  \\\n",
      "0                    0     6511   \n",
      "1                    0     2027   \n",
      "2                    0     3115   \n",
      "3                    0     3328   \n",
      "4                    0     4105   \n",
      "\n",
      "                                                Ents  \\\n",
      "0  [SQL, SSIS, OLTP, Backing, Generating, Log Shi...   \n",
      "1  [Microsoft, XP Microsoft, Assembly Language Mi...   \n",
      "2  [Carrier Objective, Experienced Creating Users...   \n",
      "3  [Amazon Redshift Administrator, yearsPostgresS...   \n",
      "4  [Scrum Master, Scrum Master, October  April  R...   \n",
      "\n",
      "                                                 new  \n",
      "0  sql ssis oltp backing generating log shipping ...  \n",
      "1  microsoft xp microsoft assembly language micro...  \n",
      "2  carrier objective experienced creating users r...  \n",
      "3  amazon redshift administrator redshift adminis...  \n",
      "4  scrum masterscrum master scrum master scrum ma...  \n",
      "Index(['Unnamed: 0', 'Text', 'Label', 'Software_Developer',\n",
      "       'Database_Administrator', 'Systems_Administrator', 'Project_manager',\n",
      "       'Web_Developer', 'Network_Administrator', 'Security_Analyst',\n",
      "       'Python_Developer', 'Java_Developer', 'Front_End_Developer', 'TextLen',\n",
      "       'Ents', 'new'],\n",
      "      dtype='object')\n"
     ]
    }
   ],
   "source": [
    "print(df.head())\n",
    "print(df.columns)"
   ]
  },
  {
   "cell_type": "markdown",
   "id": "2a6b216b",
   "metadata": {},
   "source": [
    "This dataset contains onehot encoding for each of the categories. This is useful for training our models later on."
   ]
  },
  {
   "cell_type": "code",
   "execution_count": 62,
   "id": "7e49860b",
   "metadata": {},
   "outputs": [
    {
     "name": "stdout",
     "output_type": "stream",
     "text": [
      "0    Database AdministratorDatabase AdministratorDa...\n",
      "1    Database AdministratorSQL Microsoft PowerPoint...\n",
      "2    Oracle Database AdministratorOracle Database A...\n",
      "3    Amazon Redshift Administrator ETL Developer Bu...\n",
      "4    Scrum MasterOracle Database Administrator Scru...\n",
      "Name: Text, dtype: object\n",
      "552\n"
     ]
    }
   ],
   "source": [
    "print(df['Text'].head())\n",
    "\n",
    "print(df['Label'].nunique())"
   ]
  },
  {
   "cell_type": "markdown",
   "id": "3357fc42",
   "metadata": {},
   "source": [
    "The text column holds the resumes and the Label column holds the different Categories of the jobs.\n",
    "We can drop the label later and just use the onehot encoded columns for classifying the resumes."
   ]
  },
  {
   "cell_type": "code",
   "execution_count": 63,
   "id": "32005584",
   "metadata": {},
   "outputs": [
    {
     "data": {
      "text/plain": [
       "Unnamed: 0                 int64\n",
       "Text                      object\n",
       "Label                     object\n",
       "Software_Developer         int64\n",
       "Database_Administrator     int64\n",
       "Systems_Administrator      int64\n",
       "Project_manager            int64\n",
       "Web_Developer              int64\n",
       "Network_Administrator      int64\n",
       "Security_Analyst           int64\n",
       "Python_Developer           int64\n",
       "Java_Developer             int64\n",
       "Front_End_Developer        int64\n",
       "TextLen                    int64\n",
       "Ents                      object\n",
       "new                       object\n",
       "dtype: object"
      ]
     },
     "execution_count": 63,
     "metadata": {},
     "output_type": "execute_result"
    }
   ],
   "source": [
    "df.dtypes"
   ]
  },
  {
   "cell_type": "markdown",
   "id": "28af9ef3",
   "metadata": {},
   "source": [
    "All the different categories are int64 (One hot encoded, which means they are either 0 or 1)\n",
    "\n",
    "Lets check the textlen, ents and new column."
   ]
  },
  {
   "cell_type": "code",
   "execution_count": 65,
   "id": "fcdbdfbb",
   "metadata": {},
   "outputs": [
    {
     "name": "stdout",
     "output_type": "stream",
     "text": [
      "0         6511\n",
      "1         2027\n",
      "2         3115\n",
      "3         3328\n",
      "4         4105\n",
      "         ...  \n",
      "29778    18467\n",
      "29779     7961\n",
      "29780    14170\n",
      "29781      693\n",
      "29782     4384\n",
      "Name: TextLen, Length: 29783, dtype: int64\n"
     ]
    }
   ],
   "source": [
    "print(df['TextLen'])"
   ]
  },
  {
   "cell_type": "code",
   "execution_count": 66,
   "id": "489e5901",
   "metadata": {},
   "outputs": [
    {
     "name": "stdout",
     "output_type": "stream",
     "text": [
      "6511\n",
      "6511\n"
     ]
    }
   ],
   "source": [
    "# So we think that the textlen is the length of the resume text, but lets check it\n",
    "# Lets check the length of the first resume text\n",
    "print(len(df['Text'][0]))\n",
    "print(df['TextLen'][0])"
   ]
  },
  {
   "cell_type": "markdown",
   "id": "686e5e01",
   "metadata": {},
   "source": [
    "So the textlen is just the length of the resume."
   ]
  },
  {
   "cell_type": "code",
   "execution_count": 70,
   "id": "a7a6b7bd",
   "metadata": {},
   "outputs": [
    {
     "name": "stdout",
     "output_type": "stream",
     "text": [
      "0        [SQL, SSIS, OLTP, Backing, Generating, Log Shi...\n",
      "1        [Microsoft, XP Microsoft, Assembly Language Mi...\n",
      "2        [Carrier Objective, Experienced Creating Users...\n",
      "3        [Amazon Redshift Administrator, yearsPostgresS...\n",
      "4        [Scrum Master, Scrum Master, October  April  R...\n",
      "                               ...                        \n",
      "29778    [ServiceNow DeveloperServiceNow DeveloperServi...\n",
      "29779    [DeveloperAndroid, DeveloperJoomla CMS, Samsun...\n",
      "29780    [UI, WEB, DeveloperVisual, Web Applications De...\n",
      "29781                             [September  July  , PHP]\n",
      "29782    [Sr Software, Web DeveloperWeb DeveloperWeb De...\n",
      "Name: Ents, Length: 29783, dtype: object\n",
      "0        sql ssis oltp backing generating log shipping ...\n",
      "1        microsoft xp microsoft assembly language micro...\n",
      "2        carrier objective experienced creating users r...\n",
      "3        amazon redshift administrator redshift adminis...\n",
      "4        scrum masterscrum master scrum master scrum ma...\n",
      "                               ...                        \n",
      "29778    servicenow developerservicenow developerservic...\n",
      "29779    developerandroid developerjoomla cms samsung w...\n",
      "29780    ui web developervisual web applications develo...\n",
      "29781                                                  php\n",
      "29782    sr software web developerweb developerweb deve...\n",
      "Name: new, Length: 29783, dtype: object\n"
     ]
    }
   ],
   "source": [
    "print(df['Ents'])\n",
    "print(df['new'])"
   ]
  },
  {
   "cell_type": "markdown",
   "id": "d5842aec",
   "metadata": {},
   "source": [
    "So it looks like that the 'Ents' column are the skills the applicants possess. This might be useful later.\n",
    "The 'new' column just contains the skills in lowercase."
   ]
  },
  {
   "cell_type": "code",
   "execution_count": 75,
   "id": "1a9f2e5e",
   "metadata": {},
   "outputs": [
    {
     "name": "stdout",
     "output_type": "stream",
     "text": [
      "Index(['ID', 'Resume', 'Label', 'Software_Developer', 'Database_Administrator',\n",
      "       'Systems_Administrator', 'Project_manager', 'Web_Developer',\n",
      "       'Network_Administrator', 'Security_Analyst', 'Python_Developer',\n",
      "       'Java_Developer', 'Front_End_Developer', 'TextLen', 'Skills'],\n",
      "      dtype='object')\n"
     ]
    }
   ],
   "source": [
    "# Lets drop the 'new' column, as it is not needed\n",
    "newDF = df.drop(columns=['new'])\n",
    "\n",
    "# We also rename the 'Ents' column to 'Skills' instead:\n",
    "newDF = newDF.rename(columns={'Ents': 'Skills'})\n",
    "# And we also rename the 'Text' column to 'Resume' instead:\n",
    "newDF = newDF.rename(columns={'Text': 'Resume'})\n",
    "# We rename the 'Unnamed: 0' column to 'ID' instead:\n",
    "newDF = newDF.rename(columns={'Unnamed: 0': 'ID'})\n",
    "\n",
    "print(newDF.columns )"
   ]
  },
  {
   "cell_type": "markdown",
   "id": "5e9a79ce",
   "metadata": {},
   "source": [
    "Now we can check for null and duplicate values"
   ]
  },
  {
   "cell_type": "code",
   "execution_count": 79,
   "id": "88c5e4d5",
   "metadata": {},
   "outputs": [
    {
     "name": "stdout",
     "output_type": "stream",
     "text": [
      "ID                        0\n",
      "Resume                    0\n",
      "Label                     0\n",
      "Software_Developer        0\n",
      "Database_Administrator    0\n",
      "Systems_Administrator     0\n",
      "Project_manager           0\n",
      "Web_Developer             0\n",
      "Network_Administrator     0\n",
      "Security_Analyst          0\n",
      "Python_Developer          0\n",
      "Java_Developer            0\n",
      "Front_End_Developer       0\n",
      "TextLen                   0\n",
      "Skills                    0\n",
      "dtype: int64\n",
      "          ID                                             Resume  \\\n",
      "55        55  Web DeveloperDatabase AdministratorComputer Sp...   \n",
      "65        65  Database AdministratorDatabase AdministratorNe...   \n",
      "81        81  Database AdministratorDirector Support Systems...   \n",
      "93        93  Database AdministratorContent Operations Proje...   \n",
      "96        96  Network Database AdministratorInterim IT Manag...   \n",
      "...      ...                                                ...   \n",
      "29750  29750  Front End Web DeveloperWeb DeveloperSenior Fro...   \n",
      "29757  29757  Web  developerSOA DeveloperComputer Technician...   \n",
      "29759  29759  Software EngineerWeb Application DeveloperCSSH...   \n",
      "29761  29761  Freelance Web DeveloperJava ProgrammerMany Asp...   \n",
      "29767  29767  Software DeveloperFrontEnd DeveloperWeb Develo...   \n",
      "\n",
      "                                                   Label  Software_Developer  \\\n",
      "55     [b'Web_Developer\\n', b'Software_Developer\\n', ...                   1   \n",
      "65                           [b'Database_Administrator']                   0   \n",
      "81                           [b'Database_Administrator']                   0   \n",
      "93     [b'Database_Administrator\\n', b'Project_manage...                   0   \n",
      "96     [b'Database_Administrator\\n', b'Network_Admini...                   0   \n",
      "...                                                  ...                 ...   \n",
      "29750  [b'Web_Developer\\n', b'Software_Developer\\n', ...                   1   \n",
      "29757        [b'Web_Developer\\n', b'Software_Developer']                   1   \n",
      "29759        [b'Software_Developer\\n', b'Web_Developer']                   1   \n",
      "29761        [b'Web_Developer\\n', b'Software_Developer']                   1   \n",
      "29767  [b'Software_Developer\\n', b'Front_End_Develope...                   1   \n",
      "\n",
      "       Database_Administrator  Systems_Administrator  Project_manager  \\\n",
      "55                          1                      0                0   \n",
      "65                          1                      0                0   \n",
      "81                          1                      0                0   \n",
      "93                          1                      0                1   \n",
      "96                          1                      0                1   \n",
      "...                       ...                    ...              ...   \n",
      "29750                       0                      0                0   \n",
      "29757                       0                      0                0   \n",
      "29759                       0                      0                0   \n",
      "29761                       0                      0                0   \n",
      "29767                       0                      0                0   \n",
      "\n",
      "       Web_Developer  Network_Administrator  Security_Analyst  \\\n",
      "55                 1                      0                 0   \n",
      "65                 0                      0                 0   \n",
      "81                 0                      0                 0   \n",
      "93                 0                      1                 0   \n",
      "96                 0                      1                 0   \n",
      "...              ...                    ...               ...   \n",
      "29750              1                      0                 0   \n",
      "29757              1                      0                 0   \n",
      "29759              1                      0                 0   \n",
      "29761              1                      0                 0   \n",
      "29767              1                      0                 0   \n",
      "\n",
      "       Python_Developer  Java_Developer  Front_End_Developer  TextLen  \\\n",
      "55                    0               0                    0     2651   \n",
      "65                    0               0                    0     5690   \n",
      "81                    0               0                    0     5287   \n",
      "93                    0               0                    0     2599   \n",
      "96                    0               0                    0     1401   \n",
      "...                 ...             ...                  ...      ...   \n",
      "29750                 0               0                    1     3006   \n",
      "29757                 0               0                    0     8885   \n",
      "29759                 0               0                    0     1555   \n",
      "29761                 0               0                    0     1369   \n",
      "29767                 0               0                    1     2280   \n",
      "\n",
      "                                                  Skills  \n",
      "55     [Developer Web Developer Web Developer Work, A...  \n",
      "65     [Smyrna, Database Administration, SQL Server  ...  \n",
      "81     [ResourceAdp PayrollADPPayroll TaxDatabase Adm...  \n",
      "93     [Project Management  , Ultrafryer Schertz, SQL...  \n",
      "96     [Network Database AdministratorInterim, Asteri...  \n",
      "...                                                  ...  \n",
      "29750  [Front End Web DeveloperWeb DeveloperSenior Fr...  \n",
      "29757  [DeveloperComputer, Technician WebmasterSoftwa...  \n",
      "29759  [PHP, JavaScript jQuery, Java Android programm...  \n",
      "29761  [US, New Bloomfield MO, JavaScript, Java Sprin...  \n",
      "29767  [US, Las Vegas, JavaScript PHP, Participate, J...  \n",
      "\n",
      "[1668 rows x 15 columns]\n"
     ]
    }
   ],
   "source": [
    "print(newDF.isnull().sum())\n",
    "# We have no null values in the dataframe, so we can proceed with the next steps\n",
    "\n",
    "duplicates = newDF[newDF.duplicated(subset=['Resume'], keep=False)]\n",
    "print(duplicates)"
   ]
  },
  {
   "cell_type": "code",
   "execution_count": 80,
   "id": "3121ebd0",
   "metadata": {},
   "outputs": [
    {
     "name": "stdout",
     "output_type": "stream",
     "text": [
      "ID                        0\n",
      "Resume                    0\n",
      "Label                     0\n",
      "Software_Developer        0\n",
      "Database_Administrator    0\n",
      "Systems_Administrator     0\n",
      "Project_manager           0\n",
      "Web_Developer             0\n",
      "Network_Administrator     0\n",
      "Security_Analyst          0\n",
      "Python_Developer          0\n",
      "Java_Developer            0\n",
      "Front_End_Developer       0\n",
      "TextLen                   0\n",
      "Skills                    0\n",
      "dtype: int64\n",
      "ID                        28947\n",
      "Resume                    28947\n",
      "Label                     28947\n",
      "Software_Developer        28947\n",
      "Database_Administrator    28947\n",
      "Systems_Administrator     28947\n",
      "Project_manager           28947\n",
      "Web_Developer             28947\n",
      "Network_Administrator     28947\n",
      "Security_Analyst          28947\n",
      "Python_Developer          28947\n",
      "Java_Developer            28947\n",
      "Front_End_Developer       28947\n",
      "TextLen                   28947\n",
      "Skills                    28947\n",
      "dtype: int64\n"
     ]
    }
   ],
   "source": [
    "# We have 1668 duplicated resumes, so we will drop them\n",
    "newDF = newDF.drop_duplicates(subset=['Resume'], keep='first')\n",
    "print(newDF.isnull().sum())\n",
    "\n",
    "print(newDF.count())"
   ]
  },
  {
   "cell_type": "markdown",
   "id": "e52a610c",
   "metadata": {},
   "source": [
    "We now have our finished dataframe, which has been cleaned. We will have to save it as a pickle file.\n",
    "The pickle files are gonna be too large to upload to github, so we save it in a gitignored folder in /Data/DataFrames"
   ]
  },
  {
   "cell_type": "code",
   "execution_count": 81,
   "id": "afec65a5",
   "metadata": {},
   "outputs": [
    {
     "name": "stdout",
     "output_type": "stream",
     "text": [
      "   ID                                             Resume  \\\n",
      "0   0  Database AdministratorDatabase AdministratorDa...   \n",
      "1   1  Database AdministratorSQL Microsoft PowerPoint...   \n",
      "2   2  Oracle Database AdministratorOracle Database A...   \n",
      "3   3  Amazon Redshift Administrator ETL Developer Bu...   \n",
      "4   4  Scrum MasterOracle Database Administrator Scru...   \n",
      "\n",
      "                         Label  Software_Developer  Database_Administrator  \\\n",
      "0  [b'Database_Administrator']                   0                       1   \n",
      "1  [b'Database_Administrator']                   0                       1   \n",
      "2  [b'Database_Administrator']                   0                       1   \n",
      "3  [b'Database_Administrator']                   0                       1   \n",
      "4  [b'Database_Administrator']                   0                       1   \n",
      "\n",
      "   Systems_Administrator  Project_manager  Web_Developer  \\\n",
      "0                      0                0              0   \n",
      "1                      0                0              0   \n",
      "2                      0                0              0   \n",
      "3                      0                0              0   \n",
      "4                      0                0              0   \n",
      "\n",
      "   Network_Administrator  Security_Analyst  Python_Developer  Java_Developer  \\\n",
      "0                      0                 0                 0               0   \n",
      "1                      0                 0                 0               0   \n",
      "2                      0                 0                 0               0   \n",
      "3                      0                 0                 0               0   \n",
      "4                      0                 0                 0               0   \n",
      "\n",
      "   Front_End_Developer  TextLen  \\\n",
      "0                    0     6511   \n",
      "1                    0     2027   \n",
      "2                    0     3115   \n",
      "3                    0     3328   \n",
      "4                    0     4105   \n",
      "\n",
      "                                              Skills  \n",
      "0  [SQL, SSIS, OLTP, Backing, Generating, Log Shi...  \n",
      "1  [Microsoft, XP Microsoft, Assembly Language Mi...  \n",
      "2  [Carrier Objective, Experienced Creating Users...  \n",
      "3  [Amazon Redshift Administrator, yearsPostgresS...  \n",
      "4  [Scrum Master, Scrum Master, October  April  R...  \n"
     ]
    }
   ],
   "source": [
    "import pickle\n",
    "\n",
    "with open('Data/Dataframes/newDF.pkl', 'wb') as f:\n",
    "    pickle.dump(newDF, f)\n",
    "with open('Data/Dataframes/newDF.pkl', 'rb') as f:\n",
    "    newDF = pickle.load(f)\n",
    "print(newDF.head())"
   ]
  }
 ],
 "metadata": {
  "language_info": {
   "name": "python"
  }
 },
 "nbformat": 4,
 "nbformat_minor": 5
}
