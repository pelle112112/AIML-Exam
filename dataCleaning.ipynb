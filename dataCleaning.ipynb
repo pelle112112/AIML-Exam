{
 "cells": [
  {
   "cell_type": "markdown",
   "id": "bdc7c425",
   "metadata": {},
   "source": [
    "The following data is build on this dataset from Kaggle: https://www.kaggle.com/datasets/joanirudh/resumecorpus-cleaned/data\n",
    "\n",
    "It has to be downloaded, unpacked and inserted into the /Data folder. It is too large to upload to github."
   ]
  },
  {
   "cell_type": "code",
   "execution_count": 56,
   "id": "a65428c7",
   "metadata": {},
   "outputs": [],
   "source": [
    "import pandas as pd\n",
    "import numpy as np"
   ]
  },
  {
   "cell_type": "code",
   "execution_count": 57,
   "id": "cc898737",
   "metadata": {},
   "outputs": [],
   "source": [
    "\n",
    "def loadData(file_path):\n",
    "    \"\"\"\n",
    "    Load data from a CSV file.\n",
    "    \"\"\"\n",
    "    try:\n",
    "        data = pd.read_csv(file_path)\n",
    "        return data\n",
    "    except FileNotFoundError:\n",
    "        print(f\"File {file_path} not found.\")\n",
    "        return None\n",
    "    \n",
    "    \n",
    "df = loadData(\"Data/finale.csv\")"
   ]
  },
  {
   "cell_type": "code",
   "execution_count": 59,
   "id": "d7cdc504",
   "metadata": {},
   "outputs": [
    {
     "name": "stdout",
     "output_type": "stream",
     "text": [
      "   Unnamed: 0                                               Text  \\\n",
      "0           0  Database AdministratorDatabase AdministratorDa...   \n",
      "1           1  Database AdministratorSQL Microsoft PowerPoint...   \n",
      "2           2  Oracle Database AdministratorOracle Database A...   \n",
      "3           3  Amazon Redshift Administrator ETL Developer Bu...   \n",
      "4           4  Scrum MasterOracle Database Administrator Scru...   \n",
      "\n",
      "                         Label  Software_Developer  Database_Administrator  \\\n",
      "0  [b'Database_Administrator']                   0                       1   \n",
      "1  [b'Database_Administrator']                   0                       1   \n",
      "2  [b'Database_Administrator']                   0                       1   \n",
      "3  [b'Database_Administrator']                   0                       1   \n",
      "4  [b'Database_Administrator']                   0                       1   \n",
      "\n",
      "   Systems_Administrator  Project_manager  Web_Developer  \\\n",
      "0                      0                0              0   \n",
      "1                      0                0              0   \n",
      "2                      0                0              0   \n",
      "3                      0                0              0   \n",
      "4                      0                0              0   \n",
      "\n",
      "   Network_Administrator  Security_Analyst  Python_Developer  Java_Developer  \\\n",
      "0                      0                 0                 0               0   \n",
      "1                      0                 0                 0               0   \n",
      "2                      0                 0                 0               0   \n",
      "3                      0                 0                 0               0   \n",
      "4                      0                 0                 0               0   \n",
      "\n",
      "   Front_End_Developer  TextLen  \\\n",
      "0                    0     6511   \n",
      "1                    0     2027   \n",
      "2                    0     3115   \n",
      "3                    0     3328   \n",
      "4                    0     4105   \n",
      "\n",
      "                                                Ents  \\\n",
      "0  [SQL, SSIS, OLTP, Backing, Generating, Log Shi...   \n",
      "1  [Microsoft, XP Microsoft, Assembly Language Mi...   \n",
      "2  [Carrier Objective, Experienced Creating Users...   \n",
      "3  [Amazon Redshift Administrator, yearsPostgresS...   \n",
      "4  [Scrum Master, Scrum Master, October  April  R...   \n",
      "\n",
      "                                                 new  \n",
      "0  sql ssis oltp backing generating log shipping ...  \n",
      "1  microsoft xp microsoft assembly language micro...  \n",
      "2  carrier objective experienced creating users r...  \n",
      "3  amazon redshift administrator redshift adminis...  \n",
      "4  scrum masterscrum master scrum master scrum ma...  \n",
      "Index(['Unnamed: 0', 'Text', 'Label', 'Software_Developer',\n",
      "       'Database_Administrator', 'Systems_Administrator', 'Project_manager',\n",
      "       'Web_Developer', 'Network_Administrator', 'Security_Analyst',\n",
      "       'Python_Developer', 'Java_Developer', 'Front_End_Developer', 'TextLen',\n",
      "       'Ents', 'new'],\n",
      "      dtype='object')\n"
     ]
    }
   ],
   "source": [
    "print(df.head())\n",
    "print(df.columns)"
   ]
  }
 ],
 "metadata": {
  "language_info": {
   "name": "python"
  }
 },
 "nbformat": 4,
 "nbformat_minor": 5
}
