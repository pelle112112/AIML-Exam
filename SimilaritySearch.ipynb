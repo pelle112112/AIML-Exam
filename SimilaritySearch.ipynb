{
 "cells": [
  {
   "cell_type": "markdown",
   "id": "26d121cc",
   "metadata": {},
   "source": [
    "So for this part we want to do Sentence embedding similarity, where we compare the resumes against job applications and general requirements, as the second part of the screening process.\n",
    "\n",
    "We will be using a pretrained model, which scores highly on embedding with high understanding of context.\n",
    "We thought about training a model for this, but it would require data, which we dont have. More specifically a dataset with resumes, job applications and a label if its a match or not.\n",
    "Fine tuning a BERT model with specific data could yield good results."
   ]
  },
  {
   "cell_type": "code",
   "execution_count": 6,
   "id": "fc56e87f",
   "metadata": {},
   "outputs": [
    {
     "name": "stderr",
     "output_type": "stream",
     "text": [
      "c:\\Users\\pelle\\Work\\1semSoft\\exam\\AIML-Exam\\examVenv\\Lib\\site-packages\\tqdm\\auto.py:21: TqdmWarning: IProgress not found. Please update jupyter and ipywidgets. See https://ipywidgets.readthedocs.io/en/stable/user_install.html\n",
      "  from .autonotebook import tqdm as notebook_tqdm\n"
     ]
    }
   ],
   "source": [
    "import pandas as pd\n",
    "import numpy as np\n",
    "from sentence_transformers import SentenceTransformer, util"
   ]
  },
  {
   "cell_type": "code",
   "execution_count": 7,
   "id": "ce49271b",
   "metadata": {},
   "outputs": [],
   "source": [
    "# Loading the pickled dataset\n",
    "import pickle\n",
    "with open('Data/Dataframes/newDF.pkl', 'rb') as f:\n",
    "    df = pickle.load(f)"
   ]
  },
  {
   "cell_type": "code",
   "execution_count": 9,
   "id": "b311b3db",
   "metadata": {},
   "outputs": [
    {
     "name": "stdout",
     "output_type": "stream",
     "text": [
      "                                              Resume  Software_Developer  \\\n",
      "0  Database AdministratorDatabase AdministratorDa...                   0   \n",
      "1  Database AdministratorSQL Microsoft PowerPoint...                   0   \n",
      "2  Oracle Database AdministratorOracle Database A...                   0   \n",
      "3  Amazon Redshift Administrator ETL Developer Bu...                   0   \n",
      "4  Scrum MasterOracle Database Administrator Scru...                   0   \n",
      "\n",
      "   Database_Administrator  Systems_Administrator  Project_manager  \\\n",
      "0                       1                      0                0   \n",
      "1                       1                      0                0   \n",
      "2                       1                      0                0   \n",
      "3                       1                      0                0   \n",
      "4                       1                      0                0   \n",
      "\n",
      "   Web_Developer  Network_Administrator  Security_Analyst  Python_Developer  \\\n",
      "0              0                      0                 0                 0   \n",
      "1              0                      0                 0                 0   \n",
      "2              0                      0                 0                 0   \n",
      "3              0                      0                 0                 0   \n",
      "4              0                      0                 0                 0   \n",
      "\n",
      "   Java_Developer  Front_End_Developer  \n",
      "0               0                    0  \n",
      "1               0                    0  \n",
      "2               0                    0  \n",
      "3               0                    0  \n",
      "4               0                    0  \n"
     ]
    }
   ],
   "source": [
    "trainingDF = df.drop(columns=['ID', 'Label', 'TextLen'])\n",
    "print(trainingDF.head())"
   ]
  },
  {
   "cell_type": "code",
   "execution_count": 12,
   "id": "a094b3f8",
   "metadata": {},
   "outputs": [
    {
     "name": "stderr",
     "output_type": "stream",
     "text": [
      "c:\\Users\\pelle\\Work\\1semSoft\\exam\\AIML-Exam\\examVenv\\Lib\\site-packages\\huggingface_hub\\file_download.py:143: UserWarning: `huggingface_hub` cache-system uses symlinks by default to efficiently store duplicated files but your machine does not support them in C:\\Users\\pelle\\.cache\\huggingface\\hub\\models--sentence-transformers--all-MiniLM-L6-v2. Caching files will still work but in a degraded version that might require more space on your disk. This warning can be disabled by setting the `HF_HUB_DISABLE_SYMLINKS_WARNING` environment variable. For more details, see https://huggingface.co/docs/huggingface_hub/how-to-cache#limitations.\n",
      "To support symlinks on Windows, you either need to activate Developer Mode or to run Python as an administrator. In order to activate developer mode, see this article: https://docs.microsoft.com/en-us/windows/apps/get-started/enable-your-device-for-development\n",
      "  warnings.warn(message)\n",
      "Xet Storage is enabled for this repo, but the 'hf_xet' package is not installed. Falling back to regular HTTP download. For better performance, install the package with: `pip install huggingface_hub[hf_xet]` or `pip install hf_xet`\n"
     ]
    }
   ],
   "source": [
    "# We use a trained bert model to get the embeddings\n",
    "model = SentenceTransformer('all-MiniLM-L6-v2')\n"
   ]
  },
  {
   "cell_type": "code",
   "execution_count": 11,
   "id": "980314d6",
   "metadata": {},
   "outputs": [],
   "source": [
    "job_descriptions = {\n",
    "    \"Software_Developer\": \"Looking for a software developer with strong coding and problem-solving skills.\",\n",
    "    \"Database_Administrator\": \"Seeking an expert in database design, administration, and SQL performance tuning.\",\n",
    "    \"Systems_Administrator\": \"Responsible for managing IT systems, servers, and network infrastructure.\",\n",
    "    \"Project_manager\": \"Oversee project timelines, manage teams, and deliver solutions on time and budget.\",\n",
    "    \"Web_Developer\": \"Experienced in building web applications using HTML, CSS, JavaScript, and frameworks.\",\n",
    "    \"Network_Administrator\": \"Manage and secure enterprise-level network environments and firewalls.\",\n",
    "    \"Security_Analyst\": \"Analyze system vulnerabilities and ensure cybersecurity best practices.\",\n",
    "    \"Python_Developer\": \"Skilled in Python development for web, data, or automation projects.\",\n",
    "    \"Java_Developer\": \"Experienced in Java development, frameworks, and object-oriented design.\",\n",
    "    \"Front_End_Developer\": \"Focus on user interface design and front-end development using modern tools.\"\n",
    "}\n"
   ]
  },
  {
   "cell_type": "code",
   "execution_count": 13,
   "id": "c8afdc7f",
   "metadata": {},
   "outputs": [],
   "source": [
    "# Create embeddings for job descriptions\n",
    "job_embs = {label: model.encode(desc, convert_to_tensor=True) for label, desc in job_descriptions.items()}\n",
    "\n",
    "# Store results\n",
    "results = []\n",
    "\n",
    "for idx, row in df.iterrows():\n",
    "    resume_text = row[\"Resume\"]\n",
    "    resume_emb = model.encode(resume_text, convert_to_tensor=True)\n",
    "    \n",
    "    match_scores = {}\n",
    "    for label, job_emb in job_embs.items():\n",
    "        score = util.cos_sim(resume_emb, job_emb).item()\n",
    "        match_scores[label] = round(score, 3)\n",
    "    \n",
    "    results.append({\n",
    "        \"Resume\": resume_text,\n",
    "        **match_scores\n",
    "    })\n",
    "\n",
    "similarity_df = pd.DataFrame(results)"
   ]
  }
 ],
 "metadata": {
  "kernelspec": {
   "display_name": "examVenv",
   "language": "python",
   "name": "python3"
  },
  "language_info": {
   "codemirror_mode": {
    "name": "ipython",
    "version": 3
   },
   "file_extension": ".py",
   "mimetype": "text/x-python",
   "name": "python",
   "nbconvert_exporter": "python",
   "pygments_lexer": "ipython3",
   "version": "3.12.1"
  }
 },
 "nbformat": 4,
 "nbformat_minor": 5
}
